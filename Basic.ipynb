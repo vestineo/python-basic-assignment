{
 "cells": [
  {
   "cell_type": "markdown",
   "id": "e91cbd2c-723a-43d9-8e0c-844f66b509be",
   "metadata": {},
   "source": [
    "**1. Simple Message: Store a message in a variable, and then print that message.\n",
    ".**"
   ]
  },
  {
   "cell_type": "code",
   "execution_count": 2,
   "id": "1ce48bda-39eb-462f-ba86-ab31553b5da0",
   "metadata": {},
   "outputs": [
    {
     "name": "stdout",
     "output_type": "stream",
     "text": [
      "Hello python!\n"
     ]
    }
   ],
   "source": [
    "msg = \"Hello python!\"\n",
    "print(msg)"
   ]
  },
  {
   "cell_type": "markdown",
   "id": "eeb8db26-4d9f-4684-98d9-87c4fc655c94",
   "metadata": {},
   "source": [
    "**2. Store a message in a variable and print that message. Then change the \n",
    "value of your variable to a new message and print the new message.**"
   ]
  },
  {
   "cell_type": "code",
   "execution_count": 3,
   "id": "b2deaf0d-dbaf-4d77-ac14-1b1f6e4d810b",
   "metadata": {},
   "outputs": [
    {
     "name": "stdout",
     "output_type": "stream",
     "text": [
      "Old\n",
      "New\n"
     ]
    }
   ],
   "source": [
    "name = \"Old\"\n",
    "print(name)\n",
    "name = \"New\"\n",
    "print(name)"
   ]
  },
  {
   "cell_type": "markdown",
   "id": "da0a45e7-378f-4f1d-93a8-542d149becb5",
   "metadata": {},
   "source": [
    "**3. Store a person’s name in a variable and print a message to that person. \n",
    "Your message should be simple, such as, “Hello Eric, would you like to \n",
    "learn some Python today?”**"
   ]
  },
  {
   "cell_type": "code",
   "execution_count": 5,
   "id": "f570ce2d-e14a-4d17-be06-195661efbeae",
   "metadata": {},
   "outputs": [
    {
     "name": "stdout",
     "output_type": "stream",
     "text": [
      "Hello  Prashant ! Lets learn Python today\n"
     ]
    }
   ],
   "source": [
    "name = \"Prashant\"\n",
    "print(\"Hello \", name, \"! Lets learn Python today\")"
   ]
  },
  {
   "cell_type": "markdown",
   "id": "35fed1bb-87f1-4861-89e2-646fcc6ed1af",
   "metadata": {},
   "source": [
    "**4. Find a quote from a famous person you admire. Print the quote and the \n",
    "name of its author. Your output should look something like the following, \n",
    "including the quotation marks: Albert Einstein once said, “A person who \n",
    "never made a mistake never tried anything new.”**"
   ]
  },
  {
   "cell_type": "code",
   "execution_count": 6,
   "id": "e78a875e-392a-4589-9e3e-dcd5cb25e51b",
   "metadata": {},
   "outputs": [
    {
     "name": "stdout",
     "output_type": "stream",
     "text": [
      "\" Life Happens Wherever You Are. \"\n"
     ]
    }
   ],
   "source": [
    "q = \"Life Happens Wherever You Are.\"\n",
    "print('\"', q, '\"')"
   ]
  },
  {
   "cell_type": "markdown",
   "id": "c6fe05c6-4aa9-47ab-b608-6b5da7a0c6c6",
   "metadata": {},
   "source": [
    "**5. Repeat Exercise 4, but this time store the famous person’s name in a \n",
    "variable called famous_person. Then compose your message and store it in \n",
    "a new variable called message. Print your message.**"
   ]
  },
  {
   "cell_type": "code",
   "execution_count": 9,
   "id": "54cb7e22-05d0-4853-9cda-2a2b2474f96d",
   "metadata": {},
   "outputs": [
    {
     "name": "stdout",
     "output_type": "stream",
     "text": [
      "Iroh  - \" Life Happens Wherever You Are. \"\n"
     ]
    }
   ],
   "source": [
    "name = \"Iroh\"\n",
    "q = \"Life Happens Wherever You Are.\"\n",
    "print( name, ' - \"', q, '\"')"
   ]
  },
  {
   "cell_type": "markdown",
   "id": "6fe7eafc-e0d2-4355-befd-cfda72bbe7d2",
   "metadata": {},
   "source": [
    "**6. Write addition, subtraction, multiplication, and division operations that each result in the number 8. Be sure to enclose your operations in print statements to see the results. You should create four lines that look like this:**"
   ]
  },
  {
   "cell_type": "code",
   "execution_count": 13,
   "id": "fe3a6328-17a2-4b5a-9fb4-19a81ce3250f",
   "metadata": {},
   "outputs": [
    {
     "name": "stdout",
     "output_type": "stream",
     "text": [
      "Substraction  7\n",
      "Addition  8\n",
      "Multiplication  8\n",
      "Division  8\n"
     ]
    }
   ],
   "source": [
    "print(\"Substraction \", 11 - 4)\n",
    "print(\"Addition \", 5+3)\n",
    "print(\"Multiplication \", 4*2)\n",
    "print(\"Division \", 64//8)"
   ]
  },
  {
   "cell_type": "markdown",
   "id": "099059b9-d8f4-407c-ac97-1d03270b830d",
   "metadata": {},
   "source": [
    "**7. Store your favourite number in a variable. Then, using that variable, create \n",
    "a message that reveals your favourite number. Print that message.**"
   ]
  },
  {
   "cell_type": "code",
   "execution_count": 14,
   "id": "079d0531-b081-49ee-8467-8af993244cc0",
   "metadata": {},
   "outputs": [
    {
     "name": "stdout",
     "output_type": "stream",
     "text": [
      "My fav number is  7\n"
     ]
    }
   ],
   "source": [
    "n = 7\n",
    "print(\"My fav number is \", n)"
   ]
  },
  {
   "cell_type": "markdown",
   "id": "1f33151f-4575-468a-840c-31f8eb09c394",
   "metadata": {},
   "source": [
    "**8. Choose two of the programs you’ve written and add at least one comment  to each. If you don’t have anything specific to write because your programs  are too simple at this point, just add your name and the current date at the top of each program file. Then write one sentence describing what the  program does.**"
   ]
  },
  {
   "cell_type": "code",
   "execution_count": 15,
   "id": "b61ca2ed-4d9e-42b2-9681-63e91fa25eb6",
   "metadata": {},
   "outputs": [
    {
     "name": "stdout",
     "output_type": "stream",
     "text": [
      "14\n"
     ]
    }
   ],
   "source": [
    "## This is an addition\n",
    "print(5+9)\n",
    "## This is a comment"
   ]
  },
  {
   "cell_type": "markdown",
   "id": "baae9b35-7ea3-4572-9f3f-128851afea03",
   "metadata": {},
   "source": [
    "**9. Store the names of a few of your friends in a list called names. Print each person’s name by accessing each element in the list, one at a time.**"
   ]
  },
  {
   "cell_type": "code",
   "execution_count": 16,
   "id": "db9a281d-e9de-44b9-82e2-c7246423d56d",
   "metadata": {},
   "outputs": [
    {
     "name": "stdout",
     "output_type": "stream",
     "text": [
      "Anuj\n",
      "Sapna\n",
      "Happy\n"
     ]
    }
   ],
   "source": [
    "names = [\"Anuj\", \"Sapna\", \"Happy\"]\n",
    "print(names[0])\n",
    "print(names[1])\n",
    "print(names[2])"
   ]
  },
  {
   "cell_type": "markdown",
   "id": "d3f5d539-a55e-48b4-b3f8-9ecb49d935ae",
   "metadata": {},
   "source": [
    "**10. Start with the list you used in Exercise 9, but instead of just printing each person’s name, print a message to them. The text of each message should  be the same, but each message should be personalized with the person’s name.**"
   ]
  },
  {
   "cell_type": "code",
   "execution_count": 18,
   "id": "ef2f8b9c-7eb3-4804-8e98-8ef858bdb185",
   "metadata": {},
   "outputs": [
    {
     "name": "stdout",
     "output_type": "stream",
     "text": [
      "Hey  Anuj\n",
      "Hello  Sapna\n",
      "Smile  Happy\n"
     ]
    }
   ],
   "source": [
    "names = [\"Anuj\", \"Sapna\", \"Happy\"]\n",
    "print(\"Hey \", names[0])\n",
    "print(\"Hello \", names[1])\n",
    "print(\"Smile \", names[2])"
   ]
  },
  {
   "cell_type": "markdown",
   "id": "27a641ad-0df6-43ce-98a5-79e3f4cc78ad",
   "metadata": {},
   "source": [
    "11.Think of your favourite mode of transportation, such as a motorcycle or a car, and make a list that stores several examples. Use your list to print a series of statements about these items, such as \"I would like to own a Honda motorcycle\""
   ]
  },
  {
   "cell_type": "code",
   "execution_count": 20,
   "id": "2d6d04d7-5fbd-4b3a-b989-77b6017ff1e0",
   "metadata": {},
   "outputs": [
    {
     "name": "stdout",
     "output_type": "stream",
     "text": [
      "I don't like  car\n",
      "train  is best\n",
      "I own a  bike\n"
     ]
    }
   ],
   "source": [
    "type = ['car', 'train', 'bike']\n",
    "print(\"I don't like \", type[0])\n",
    "print(type[1], \" is best\")\n",
    "print(\"I own a \", type[2])"
   ]
  },
  {
   "cell_type": "code",
   "execution_count": null,
   "id": "6736d1a9-fa25-4f44-b20e-33415c3d1cdb",
   "metadata": {},
   "outputs": [],
   "source": []
  }
 ],
 "metadata": {
  "kernelspec": {
   "display_name": "Python 3 (ipykernel)",
   "language": "python",
   "name": "python3"
  },
  "language_info": {
   "codemirror_mode": {
    "name": "ipython",
    "version": 3
   },
   "file_extension": ".py",
   "mimetype": "text/x-python",
   "name": "python",
   "nbconvert_exporter": "python",
   "pygments_lexer": "ipython3",
   "version": "3.10.10"
  }
 },
 "nbformat": 4,
 "nbformat_minor": 5
}
